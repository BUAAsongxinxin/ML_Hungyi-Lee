{
 "cells": [
  {
   "cell_type": "code",
   "execution_count": 1,
   "metadata": {},
   "outputs": [],
   "source": [
    "import numpy as np\n",
    "import matplotlib.pyplot as plt"
   ]
  },
  {
   "cell_type": "markdown",
   "metadata": {},
   "source": [
    "### 数据预处理\n",
    "* 读取数据\n",
    "* 标准化\n",
    "* 拼接一列，作为bias项\n",
    "* 切分数据集"
   ]
  },
  {
   "cell_type": "code",
   "execution_count": 2,
   "metadata": {},
   "outputs": [],
   "source": [
    "X_train_dir = 'data/X_train'\n",
    "Y_train_dir = 'data/Y_train'\n",
    "X_test_dir = 'data/X_test'"
   ]
  },
  {
   "cell_type": "code",
   "execution_count": 3,
   "metadata": {},
   "outputs": [
    {
     "name": "stdout",
     "output_type": "stream",
     "text": [
      "X_train.shape: (54256, 510)\n",
      "Y_train.shape: (54256, 1)\n",
      "X_test.shape: (27622, 510)\n"
     ]
    }
   ],
   "source": [
    "with open(X_train_dir, 'r') as f:\n",
    "    lines = f.readlines()[1:] # 第一行为目录\n",
    "    X_train = np.array([line.strip().split(',')[1:] for line in lines], dtype=float) # 第一列为id\n",
    "    f.close()\n",
    "    \n",
    "with open(Y_train_dir, 'r') as f:\n",
    "    lines = f.readlines()[1:]\n",
    "    Y_train = np.array([line.strip().split(',')[1:] for line in lines], dtype=float)\n",
    "    f.close()\n",
    "    \n",
    "with open(X_test_dir, 'r') as f:\n",
    "    lines = f.readlines()[1:]\n",
    "    X_test = np.array([line.strip().split(',')[1:] for line in lines], dtype=float)\n",
    "    f.close()\n",
    "\n",
    "print('X_train.shape: {}'.format(X_train.shape))\n",
    "print('Y_train.shape: {}'.format(Y_train.shape))\n",
    "print('X_test.shape: {}'.format(X_test.shape))"
   ]
  },
  {
   "cell_type": "code",
   "execution_count": 4,
   "metadata": {},
   "outputs": [
    {
     "name": "stdout",
     "output_type": "stream",
     "text": [
      "X_train.shape: (54256, 511)\n",
      "Y_train.shape: (54256, 1)\n",
      "X_test.shape: (27622, 511)\n"
     ]
    }
   ],
   "source": [
    "x_mean = np.mean(X_train, axis=0)\n",
    "x_std = np.std(X_train, axis=0)\n",
    "for j in range(X_train.shape[1]):\n",
    "    X_train[:, j] = (X_train[:, j] - x_mean[j]) / (x_std[j] + 1e-8) # 防止分母为0\n",
    "        \n",
    "\n",
    "x_mean_test = np.mean(X_test, axis=0)\n",
    "x_std_test = np.std(X_test, axis=0)\n",
    "for j in range(X_test.shape[1]):\n",
    "    X_test[:, j] = (X_test[:, j] - x_mean_test[j]) / (x_std_test[j] + 1e-8)\n",
    "    \n",
    "X_train = np.concatenate((X_train, np.ones((X_train.shape[0], 1))), axis=1)\n",
    "X_test = np.concatenate((X_test, np.ones((X_test.shape[0], 1))), axis=1)\n",
    "            \n",
    "print('X_train.shape: {}'.format(X_train.shape))\n",
    "print('Y_train.shape: {}'.format(Y_train.shape))\n",
    "print('X_test.shape: {}'.format(X_test.shape))"
   ]
  },
  {
   "cell_type": "code",
   "execution_count": 8,
   "metadata": {},
   "outputs": [],
   "source": [
    "def train_dev_split(X, Y, train_ratio):\n",
    "    split_index = int(X_train.shape[0] * train_ratio)\n",
    "    return X[:split_index, :], Y[:split_index], X[split_index:, :], Y[split_index:]\n",
    "\n",
    "X_train, Y_train, X_dev, Y_dev = train_dev_split(X_train, Y_train, 0.9)"
   ]
  },
  {
   "cell_type": "code",
   "execution_count": 9,
   "metadata": {},
   "outputs": [
    {
     "name": "stdout",
     "output_type": "stream",
     "text": [
      "X_train.shape: (48830, 511)\n",
      "Y_train.shape: (48830, 1)\n",
      "X_dev.shape: (5426, 511)\n",
      "Y_dev.shape: (5426, 1)\n",
      "X_test.shape: (27622, 511)\n"
     ]
    }
   ],
   "source": [
    "print('X_train.shape: {}'.format(X_train.shape))\n",
    "print('Y_train.shape: {}'.format(Y_train.shape))\n",
    "print('X_dev.shape: {}'.format(X_dev.shape))\n",
    "print('Y_dev.shape: {}'.format(Y_dev.shape))\n",
    "print('X_test.shape: {}'.format(X_test.shape))"
   ]
  },
  {
   "cell_type": "markdown",
   "metadata": {},
   "source": [
    "#### LR\n",
    "* f\n",
    "* loss : cross_entropy\n",
    "* gradient"
   ]
  },
  {
   "cell_type": "code",
   "execution_count": 5,
   "metadata": {},
   "outputs": [],
   "source": [
    "def func(X, w):\n",
    "    z = np.dot(X, w)\n",
    "    return np.clip(1 / (1.0 + np.exp(-z)), 1e-8,1 - (1e-8)) # 限制在某个区间内,防止出现无穷大\n",
    "\n",
    "def cross_entropy_loss(y, y_pred):\n",
    "    loss = - np.dot(y.T, np.log(y_pred)) - np.dot((1 - y).T, np.log(1 - y_pred))\n",
    "    loss = int(loss[0])\n",
    "    return loss / y.shape[0]\n",
    "\n",
    "def grad(x, label, y_pred):\n",
    "    error = y_pred - label\n",
    "    grad = np.dot(x.T, error)\n",
    "    return grad\n",
    "\n",
    "def acc(y, y_pred):\n",
    "    right_num = np.sum(y == y_pred)\n",
    "    return right_num / y.shape[0]"
   ]
  },
  {
   "cell_type": "code",
   "execution_count": 7,
   "metadata": {},
   "outputs": [
    {
     "name": "stdout",
     "output_type": "stream",
     "text": [
      "Training loss: 0.2873599233264524\n",
      "Training accuracy: 0.8770458566794456\n"
     ]
    }
   ],
   "source": [
    "# 全部的train 训一遍\n",
    "max_iter = 10\n",
    "batch_size = 8\n",
    "lr = 0.002\n",
    "dev_loss = []\n",
    "train_loss = []\n",
    "dev_acc = []\n",
    "train_acc = []\n",
    "batch_num = np.floor(X_train.shape[0] / batch_size)\n",
    "w = np.random.randn(X_train.shape[1], 1)\n",
    "\n",
    "step = 0\n",
    "for epoch in range(max_iter):\n",
    "    for idx in range(int(batch_num)):\n",
    "        X = X_train[idx * batch_size : (idx + 1) * batch_size, :]\n",
    "        Y = Y_train[idx * batch_size : (idx + 1) * batch_size]\n",
    "        \n",
    "        y_pred = func(X, w)\n",
    "        grad_w = grad(X, Y, y_pred)\n",
    "        \n",
    "        \n",
    "        w = w - lr * grad_w\n",
    "    \n",
    "        step += 1\n",
    "#         if step % 100 == 0:\n",
    "#     y_dev = func(X_dev, w)\n",
    "    y_train = func(X_train, w)\n",
    "#     label_dev = np.round(y_dev) # 预测的label\n",
    "    label_train = np.round(y_train)\n",
    "#     dev_loss.append(cross_entropy_loss(Y_dev, y_dev))\n",
    "    train_loss.append(cross_entropy_loss(Y_train, y_train))\n",
    "\n",
    "#     dev_acc.append(acc(Y_dev, label_dev))\n",
    "    train_acc.append(acc(Y_train, label_train))\n",
    "\n",
    "#     print('Train_loss: {} | dev_loss: {} | train_acc: {} | dev_acc: {}'.\n",
    "#           format(train_loss[-1], dev_loss[-1], train_acc[-1], dev_acc[-1]))\n",
    "            \n",
    "print('Training loss: {}'.format(train_loss[-1]))\n",
    "# print('Development loss: {}'.format(dev_loss[-1]))\n",
    "print('Training accuracy: {}'.format(train_acc[-1]))\n",
    "# print('Development accuracy: {}'.format(dev_acc[-1]))"
   ]
  },
  {
   "cell_type": "code",
   "execution_count": 11,
   "metadata": {},
   "outputs": [
    {
     "name": "stdout",
     "output_type": "stream",
     "text": [
      "Train_loss: 0.45695269301658814 | dev_loss: 0.47327681533357907 | train_acc: 0.8668236739709195 | dev_acc: 0.8610394397346112\n",
      "Train_loss: 0.33905386033176327 | dev_loss: 0.3639882049391817 | train_acc: 0.8740733155846816 | dev_acc: 0.8689642462218946\n",
      "Train_loss: 0.3078435388081098 | dev_loss: 0.3332104681164762 | train_acc: 0.8766332172844563 | dev_acc: 0.8698857353483229\n",
      "Train_loss: 0.29588367806676225 | dev_loss: 0.3204939181717656 | train_acc: 0.8776776571779644 | dev_acc: 0.8715444157758938\n",
      "Train_loss: 0.2910710628711857 | dev_loss: 0.31385919646148175 | train_acc: 0.8782510751587139 | dev_acc: 0.8715444157758938\n",
      "Train_loss: 0.288511161171411 | dev_loss: 0.3101732399557685 | train_acc: 0.8780462830227319 | dev_acc: 0.8719130114264652\n",
      "Train_loss: 0.2868933032971534 | dev_loss: 0.30962034647991155 | train_acc: 0.8778619701003482 | dev_acc: 0.8706229266494655\n",
      "Train_loss: 0.2861150931804219 | dev_loss: 0.3088831551787689 | train_acc: 0.8781896375179193 | dev_acc: 0.8711758201253226\n",
      "Train_loss: 0.28521400778210115 | dev_loss: 0.3077773682270549 | train_acc: 0.8783329920131067 | dev_acc: 0.8715444157758938\n",
      "Train_loss: 0.2843334015973787 | dev_loss: 0.30648728345005527 | train_acc: 0.8784353880810977 | dev_acc: 0.8724659049023221\n",
      "Training loss: 0.2843334015973787\n",
      "Development loss: 0.30648728345005527\n",
      "Training accuracy: 0.8784353880810977\n",
      "Development accuracy: 0.8724659049023221\n"
     ]
    }
   ],
   "source": [
    "max_iter = 10\n",
    "batch_size = 8\n",
    "lr = 0.002\n",
    "dev_loss = []\n",
    "train_loss = []\n",
    "dev_acc = []\n",
    "train_acc = []\n",
    "batch_num = np.floor(X_train.shape[0] / batch_size)\n",
    "w = np.random.randn(X_train.shape[1], 1)\n",
    "\n",
    "step = 0\n",
    "for epoch in range(max_iter):\n",
    "    for idx in range(int(batch_num)):\n",
    "        X = X_train[idx * batch_size : (idx + 1) * batch_size, :]\n",
    "        Y = Y_train[idx * batch_size : (idx + 1) * batch_size]\n",
    "        \n",
    "        y_pred = func(X, w)\n",
    "        grad_w = grad(X, Y, y_pred)\n",
    "        \n",
    "        \n",
    "        w = w - lr * grad_w\n",
    "    \n",
    "        step += 1\n",
    "#         if step % 100 == 0:\n",
    "    y_dev = func(X_dev, w)\n",
    "    y_train = func(X_train, w)\n",
    "    label_dev = np.round(y_dev) # 预测的label\n",
    "    label_train = np.round(y_train)\n",
    "    dev_loss.append(cross_entropy_loss(Y_dev, y_dev))\n",
    "    train_loss.append(cross_entropy_loss(Y_train, y_train))\n",
    "\n",
    "    dev_acc.append(acc(Y_dev, label_dev))\n",
    "    train_acc.append(acc(Y_train, label_train))\n",
    "\n",
    "    print('Train_loss: {} | dev_loss: {} | train_acc: {} | dev_acc: {}'.\n",
    "          format(train_loss[-1], dev_loss[-1], train_acc[-1], dev_acc[-1]))\n",
    "            \n",
    "print('Training loss: {}'.format(train_loss[-1]))\n",
    "print('Development loss: {}'.format(dev_loss[-1]))\n",
    "print('Training accuracy: {}'.format(train_acc[-1]))\n",
    "print('Development accuracy: {}'.format(dev_acc[-1]))"
   ]
  },
  {
   "cell_type": "code",
   "execution_count": 12,
   "metadata": {},
   "outputs": [
    {
     "data": {
      "image/png": "[encoded data removed]",
      "text/plain": [
       "<Figure size 432x288 with 1 Axes>"
      ]
     },
     "metadata": {
      "needs_background": "light"
     },
     "output_type": "display_data"
    }
   ],
   "source": [
    "plt.title('loss')\n",
    "plt.plot(train_loss)\n",
    "plt.plot(dev_loss)\n",
    "plt.legend(['train', 'dev'])\n",
    "plt.show()"
   ]
  },
  {
   "cell_type": "code",
   "execution_count": 9,
   "metadata": {},
   "outputs": [
    {
     "data": {
      "image/png": "[encoded data removed]",
      "text/plain": [
       "<Figure size 432x288 with 1 Axes>"
      ]
     },
     "metadata": {
      "needs_background": "light"
     },
     "output_type": "display_data"
    }
   ],
   "source": [
    "plt.title('loss')\n",
    "plt.plot(train_loss)\n",
    "plt.plot(train_acc)\n",
    "plt.legend(['loss', 'acc'])\n",
    "plt.show()"
   ]
  },
  {
   "cell_type": "code",
   "execution_count": 13,
   "metadata": {},
   "outputs": [
    {
     "data": {
      "image/png": "[encoded data removed]",
      "text/plain": [
       "<Figure size 432x288 with 1 Axes>"
      ]
     },
     "metadata": {
      "needs_background": "light"
     },
     "output_type": "display_data"
    }
   ],
   "source": [
    "plt.title('acc')\n",
    "plt.plot(train_acc)\n",
    "plt.plot(dev_acc)\n",
    "plt.legend(['train', 'dev'])\n",
    "plt.show()"
   ]
  },
  {
   "cell_type": "code",
   "execution_count": 8,
   "metadata": {},
   "outputs": [],
   "source": [
    "import csv\n",
    "pred_prob = func(X_test, w)\n",
    "pred_label = np.round(pred_prob)\n",
    "\n",
    "with open('data/submission.csv', 'w') as f:\n",
    "    csv_writer = csv.writer(f)\n",
    "    csv_writer.writerow(['id', 'label'])\n",
    "    for i, label in enumerate(pred_label):\n",
    "        csv_writer.writerow([i, int(label[0])])"
   ]
  },
  {
   "cell_type": "code",
   "execution_count": null,
   "metadata": {},
   "outputs": [],
   "source": []
  }
 ],
 "metadata": {
  "kernelspec": {
   "display_name": "Python 3",
   "language": "python",
   "name": "python3"
  },
  "language_info": {
   "codemirror_mode": {
    "name": "ipython",
    "version": 3
   },
   "file_extension": ".py",
   "mimetype": "text/x-python",
   "name": "python",
   "nbconvert_exporter": "python",
   "pygments_lexer": "ipython3",
   "version": "3.7.4"
  }
 },
 "nbformat": 4,
 "nbformat_minor": 2
}
