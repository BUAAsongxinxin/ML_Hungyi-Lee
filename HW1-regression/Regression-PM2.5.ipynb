{
 "cells": [
  {
   "cell_type": "markdown",
   "metadata": {},
   "source": [
    "#### 大致流程\n",
    "* 数据处理\n",
    "* 模型及训练\n",
    "* 预测"
   ]
  },
  {
   "cell_type": "code",
   "execution_count": 1,
   "metadata": {},
   "outputs": [],
   "source": [
    "import pandas as pd\n",
    "import torch\n",
    "import matplotlib.pyplot as plt\n",
    "import numpy as np"
   ]
  },
  {
   "cell_type": "code",
   "execution_count": 2,
   "metadata": {},
   "outputs": [],
   "source": [
    "train_dir = 'data/train.csv'\n",
    "test_dir = 'data/test.csv'"
   ]
  },
  {
   "cell_type": "markdown",
   "metadata": {},
   "source": [
    "### 数据处理\n",
    "* 读取数据\n",
    "* 对训练集数据进行划分，将原始(240\\*18)\\*24的数据转化为若干18\\*9的数据作为输入，第10个小时的pm2.5值作为输出,前9个小时必须是连续的，\n",
    "    由于给出的数据是每个月前20天的，所以按月来分割数据,将(18\\*20)\\*24 转化为 (18\\*480) 使得连续天数首尾相连,以步长为1连续取值"
   ]
  },
  {
   "cell_type": "code",
   "execution_count": 3,
   "metadata": {},
   "outputs": [],
   "source": [
    "def read_data(file_name):\n",
    "    data = pd.read_csv(file_name, encoding='big5') # 繁体字使用big5编码\n",
    "    data = data.iloc[:, 3:] # 去掉前三列，因为前三列数据没用\n",
    "    data = data.replace('NR', 0) # NR 表示不下雨，改为0\n",
    "    data = np.array(data) # 转化为nunpy格式\n",
    "    return data"
   ]
  },
  {
   "cell_type": "code",
   "execution_count": 4,
   "metadata": {},
   "outputs": [
    {
     "data": {
      "text/plain": [
       "(4320, 24)"
      ]
     },
     "execution_count": 4,
     "metadata": {},
     "output_type": "execute_result"
    }
   ],
   "source": [
    "train_data = read_data(train_dir)\n",
    "train_data.shape"
   ]
  },
  {
   "cell_type": "code",
   "execution_count": 5,
   "metadata": {},
   "outputs": [
    {
     "name": "stdout",
     "output_type": "stream",
     "text": [
      "[['15' '14' '14' ... '18' '17' '19']\n",
      " ['1.8' '1.8' '1.7' ... '1.8' '1.8' '1.7']\n",
      " ['0.27' '0.26' '0.25' ... '0.51' '0.37' '0.33']\n",
      " ...\n",
      " ['309' '82' '63' ... '72' '65' '69']\n",
      " ['2.2' '2.4' '2.5' ... '1.9' '2.9' '1.5']\n",
      " ['1.4' '1.3' '1.4' ... '0.9' '1.6' '1.1']]\n"
     ]
    }
   ],
   "source": [
    "# 将每月的数据(18*20)*24 转化为 (18*480) 使得连续天数首尾相连\n",
    "months_data = train_data.reshape(12, -1, 24) # 按月分割后的数据 (12*360*24)\n",
    "print(months_data[1])\n",
    "\n",
    "month_data_res = {}\n",
    "month = 0\n",
    "for month_data in months_data:\n",
    "    sample = np.zeros([18, 480])\n",
    "    for day in range(20):\n",
    "        sample[:, day * 24:(day + 1) * 24] = month_data[18 * day:18 * (day + 1), :]  # 一天的开始取到一天的结尾\n",
    "    month_data_res[month] = sample\n",
    "    month += 1"
   ]
  },
  {
   "cell_type": "code",
   "execution_count": 6,
   "metadata": {},
   "outputs": [
    {
     "name": "stdout",
     "output_type": "stream",
     "text": [
      "[1.40e+01 1.30e+01 1.20e+01 1.20e+01 1.20e+01 1.20e+01 1.50e+01 1.70e+01\n",
      " 2.00e+01 1.80e+00 1.80e+00 1.80e+00 1.80e+00 1.80e+00 1.80e+00 1.80e+00\n",
      " 1.80e+00 1.80e+00 3.90e-01 3.70e-01 3.50e-01 3.00e-01 3.70e-01 4.70e-01\n",
      " 7.80e-01 7.40e-01 5.90e-01 1.30e-01 1.20e-01 1.10e-01 6.00e-02 1.00e-01\n",
      " 1.30e-01 2.60e-01 2.30e-01 2.00e-01 5.00e-01 1.70e+00 1.80e+00 1.50e+00\n",
      " 1.90e+00 2.20e+00 6.60e+00 7.90e+00 4.20e+00 8.20e+00 6.90e+00 6.80e+00\n",
      " 3.80e+00 6.90e+00 7.80e+00 1.50e+01 2.10e+01 1.40e+01 8.70e+00 8.60e+00\n",
      " 8.50e+00 5.30e+00 8.80e+00 9.90e+00 2.20e+01 2.90e+01 1.80e+01 2.70e+01\n",
      " 2.30e+01 2.40e+01 2.80e+01 2.40e+01 2.20e+01 2.10e+01 2.90e+01 4.40e+01\n",
      " 4.80e+01 3.50e+01 2.50e+01 1.20e+01 4.00e+00 2.00e+00 1.10e+01 3.80e+01\n",
      " 5.60e+01 3.60e+01 3.50e+01 3.10e+01 2.80e+01 2.50e+01 2.00e+01 1.90e+01\n",
      " 3.00e+01 4.10e+01 0.00e+00 0.00e+00 0.00e+00 0.00e+00 0.00e+00 0.00e+00\n",
      " 0.00e+00 0.00e+00 0.00e+00 6.70e+01 7.40e+01 7.20e+01 7.30e+01 7.40e+01\n",
      " 7.30e+01 6.60e+01 5.60e+01 4.50e+01 1.70e+00 1.60e+00 1.90e+00 1.40e+00\n",
      " 1.50e+00 1.60e+00 5.10e+00 1.50e+01 4.50e+00 2.00e+00 1.90e+00 1.90e+00\n",
      " 1.80e+00 1.90e+00 1.90e+00 2.10e+00 2.00e+00 2.00e+00 5.70e+01 7.60e+01\n",
      " 1.10e+02 1.06e+02 1.01e+02 1.04e+02 1.24e+02 4.60e+01 2.41e+02 2.40e+00\n",
      " 5.50e+01 9.40e+01 1.16e+02 1.06e+02 9.40e+01 2.32e+02 1.53e+02 2.83e+02\n",
      " 1.00e+00 6.00e-01 1.70e+00 2.50e+00 2.50e+00 2.00e+00 6.00e-01 8.00e-01\n",
      " 1.60e+00 6.00e-01 3.00e-01 6.00e-01 1.90e+00 2.00e+00 2.00e+00 5.00e-01\n",
      " 3.00e-01 8.00e-01]\n",
      "[44.]\n"
     ]
    },
    {
     "data": {
      "text/plain": [
       "((5652, 162), (5652, 1))"
      ]
     },
     "execution_count": 6,
     "metadata": {},
     "output_type": "execute_result"
    }
   ],
   "source": [
    "# 以步长为1取值,每月20天一共480h，一共有471组数据\n",
    "train_x = np.zeros([12 * 471, 18 * 9])\n",
    "train_y = np.zeros([12 * 471, 1])\n",
    "for month in range(12):\n",
    "    for index in range(471):\n",
    "        train_x[index + 471 * month, :] = month_data_res[month][:, index:index + 9].reshape(1, -1)\n",
    "        train_y[index + 471 * month, :] = month_data_res[month][9, index + 9]\n",
    "print(train_x[2])\n",
    "print(train_y[2])\n",
    "train_x.shape, train_y.shape"
   ]
  },
  {
   "cell_type": "code",
   "execution_count": 7,
   "metadata": {},
   "outputs": [
    {
     "name": "stdout",
     "output_type": "stream",
     "text": [
      "(162,) (162,)\n",
      "[[-1.35825331 -1.35883937 -1.359222   ...  0.26650729  0.2656797\n",
      "  -1.14082131]\n",
      " [-1.35825331 -1.35883937 -1.51819928 ...  0.26650729 -1.13963133\n",
      "  -1.32832904]\n",
      " [-1.35825331 -1.51789368 -1.67717656 ... -1.13923451 -1.32700613\n",
      "  -0.85955971]\n",
      " ...\n",
      " [-0.88092053 -0.72262212 -0.56433559 ... -0.57693779 -0.29644471\n",
      "  -0.39079039]\n",
      " [-0.7218096  -0.56356781 -0.72331287 ... -0.29578943 -0.39013211\n",
      "  -0.1095288 ]\n",
      " [-0.56269867 -0.72262212 -0.88229015 ... -0.38950555 -0.10906991\n",
      "   0.07797893]]\n"
     ]
    }
   ],
   "source": [
    "# 标准化 \n",
    "mean_x = np.mean(train_x, axis = 0) # 取列均值\n",
    "std_x = np.std(train_x, axis = 0)\n",
    "print(mean_x.shape, std_x.shape)\n",
    "for i in range(len(train_x)):\n",
    "    for j in range(len(std_x)):\n",
    "        if std_x[j] != 0:\n",
    "            train_x[i][j] = (train_x[i][j] - mean_x[j]) / std_x[j]\n",
    "        else:\n",
    "            train_x[i][j] = (train_x[i][j] - mean_x[j])\n",
    "print(train_x)"
   ]
  },
  {
   "cell_type": "code",
   "execution_count": 8,
   "metadata": {},
   "outputs": [
    {
     "data": {
      "text/plain": [
       "(5652, 162)"
      ]
     },
     "execution_count": 8,
     "metadata": {},
     "output_type": "execute_result"
    }
   ],
   "source": [
    "train_x.shape"
   ]
  },
  {
   "cell_type": "code",
   "execution_count": 9,
   "metadata": {},
   "outputs": [
    {
     "data": {
      "text/plain": [
       "(torch.Size([1131, 162]), torch.Size([4521, 162]), torch.Size([4521, 1]))"
      ]
     },
     "execution_count": 9,
     "metadata": {},
     "output_type": "execute_result"
    }
   ],
   "source": [
    "# 转化为tensor\n",
    "train_x = torch.from_numpy(train_x)\n",
    "train_y = torch.from_numpy(train_y)\n",
    "\n",
    "# 数据集拆分\n",
    "split_index = int(train_x.shape[0] * 0.8)\n",
    "val_x = train_x[split_index:, :]\n",
    "val_y = train_y[split_index:, :]\n",
    "\n",
    "train_x = train_x[:split_index, :]\n",
    "train_y = train_y[:split_index, :]\n",
    "\n",
    "val_x.shape, train_x.shape, train_y.shape"
   ]
  },
  {
   "cell_type": "markdown",
   "metadata": {},
   "source": [
    "### 2.模型及训练"
   ]
  },
  {
   "cell_type": "code",
   "execution_count": 10,
   "metadata": {},
   "outputs": [
    {
     "data": {
      "text/plain": [
       "(torch.Size([4521, 163]), torch.Size([1131, 163]))"
      ]
     },
     "execution_count": 10,
     "metadata": {},
     "output_type": "execute_result"
    }
   ],
   "source": [
    "# 添加一个维度，就是bias\n",
    "train_x = torch.cat([train_x, torch.ones([train_x.shape[0], 1]).double()], dim = 1).float()\n",
    "val_x = torch.cat([val_x, torch.ones(val_x.shape[0], 1).double()], dim = 1).float()\n",
    "train_x.shape, val_x.shape"
   ]
  },
  {
   "cell_type": "code",
   "execution_count": 71,
   "metadata": {},
   "outputs": [
    {
     "data": {
      "text/plain": [
       "(torch.Size([1000, 1]), torch.Size([10, 1]), torch.Size([163, 1]))"
      ]
     },
     "execution_count": 71,
     "metadata": {},
     "output_type": "execute_result"
    }
   ],
   "source": [
    "w = torch.zeros(train_x.shape[1], 1)\n",
    "lr = 0.00001\n",
    "iter_time = 1000\n",
    "num_train = train_x.shape[0]\n",
    "num_val = val_x.shape[0]\n",
    "adagrad = torch.zeros([train_x.shape[1], 1])\n",
    "eps = 0.000001 # 防止为0\n",
    "\n",
    "train_loss = torch.zeros(iter_time, 1)\n",
    "val_loss = torch.empty(int(iter_time/100), 1)\n",
    "for i in range(iter_time):\n",
    "    pred = torch.mm(train_x, w)\n",
    "    loss = torch.sum(torch.pow(pred - train_y, 2)) / num_train # 记得加根号，否则会导致loss太大\n",
    "    train_loss[i] = loss\n",
    "    if i % 100 == 0 and i != 0:\n",
    "        val_pred = torch.mm(val_x, w)\n",
    "        val_loss[int(i/100)] = torch.sum(torch.pow(val_pred - val_y, 2))/num_val\n",
    "        \n",
    "    gradient = torch.mm(train_x.t(), (pred - train_y).float())\n",
    "    adagrad += gradient ** 2\n",
    "#     w = w - lr * gradient / torch.sqrt(adagrad + eps)\n",
    "    w = w - lr * gradient\n",
    " \n",
    "    \n",
    "train_loss.shape, val_loss.shape, w.shape"
   ]
  },
  {
   "cell_type": "code",
   "execution_count": 72,
   "metadata": {},
   "outputs": [
    {
     "name": "stdout",
     "output_type": "stream",
     "text": [
      "[0, 100, 200, 300, 400, 500, 600, 700, 800, 900]\n"
     ]
    },
    {
     "data": {
      "image/png": "[encoded data removed]",
      "text/plain": [
       "<Figure size 432x288 with 1 Axes>"
      ]
     },
     "metadata": {
      "needs_background": "light"
     },
     "output_type": "display_data"
    }
   ],
   "source": [
    "val_j = list(range(0, iter_time, 100))\n",
    "train_j = list(range(0, iter_time, 1))\n",
    "print(val_j)\n",
    "plt.figure()\n",
    "plt.plot(train_j, torch.sqrt(train_loss).data.numpy())\n",
    "plt.plot(val_j, torch.sqrt(val_loss).data.numpy(), 'r-')\n",
    "plt.show()"
   ]
  },
  {
   "cell_type": "markdown",
   "metadata": {},
   "source": [
    "### 预测"
   ]
  },
  {
   "cell_type": "code",
   "execution_count": 77,
   "metadata": {},
   "outputs": [
    {
     "data": {
      "text/plain": [
       "(4320, 9)"
      ]
     },
     "execution_count": 77,
     "metadata": {},
     "output_type": "execute_result"
    }
   ],
   "source": [
    "test_data = pd.read_csv(test_dir, header=None)\n",
    "test_data = test_data.iloc[:,2:] # 去除前两行数据\n",
    "test_data = test_data.replace('NR', 0)\n",
    "test_data = np.array(test_data)\n",
    "test_data.shape"
   ]
  },
  {
   "cell_type": "code",
   "execution_count": 88,
   "metadata": {},
   "outputs": [
    {
     "name": "stdout",
     "output_type": "stream",
     "text": [
      "240\n"
     ]
    },
    {
     "data": {
      "text/plain": [
       "array([1.40e+01, 1.30e+01, 1.30e+01, 1.30e+01, 1.30e+01, 1.30e+01,\n",
       "       1.30e+01, 1.20e+01, 1.30e+01, 1.80e+00, 1.80e+00, 1.80e+00,\n",
       "       1.80e+00, 1.80e+00, 1.80e+00, 1.70e+00, 1.70e+00, 1.80e+00,\n",
       "       3.30e-01, 3.30e-01, 3.30e-01, 3.50e-01, 3.40e-01, 3.30e-01,\n",
       "       3.20e-01, 3.40e-01, 6.10e-01, 1.40e-01, 1.40e-01, 1.40e-01,\n",
       "       1.50e-01, 1.50e-01, 1.20e-01, 1.00e-01, 9.00e-02, 1.90e-01,\n",
       "       7.00e-01, 8.00e-01, 3.00e-01, 5.00e-01, 4.00e-01, 5.00e-01,\n",
       "       4.00e-01, 3.00e-01, 2.00e+00, 1.00e+01, 8.70e+00, 7.80e+00,\n",
       "       8.30e+00, 7.70e+00, 6.80e+00, 5.70e+00, 6.70e+00, 1.30e+01,\n",
       "       1.10e+01, 9.40e+00, 8.10e+00, 8.70e+00, 8.10e+00, 7.30e+00,\n",
       "       6.00e+00, 7.00e+00, 1.50e+01, 2.40e+01, 2.80e+01, 2.70e+01,\n",
       "       2.30e+01, 2.20e+01, 2.80e+01, 3.00e+01, 3.10e+01, 2.40e+01,\n",
       "       3.60e+01, 4.20e+01, 4.30e+01, 5.50e+01, 5.00e+01, 4.70e+01,\n",
       "       4.50e+01, 4.00e+01, 3.30e+01, 1.70e+01, 2.20e+01, 1.70e+01,\n",
       "       9.00e+00, 1.70e+01, 2.30e+01, 2.90e+01, 1.70e+01, 1.80e+01,\n",
       "       0.00e+00, 0.00e+00, 0.00e+00, 0.00e+00, 0.00e+00, 0.00e+00,\n",
       "       0.00e+00, 0.00e+00, 0.00e+00, 8.00e+01, 8.00e+01, 8.10e+01,\n",
       "       8.10e+01, 8.30e+01, 8.20e+01, 7.90e+01, 7.40e+01, 7.30e+01,\n",
       "       2.00e+00, 2.00e+00, 1.60e+00, 1.60e+00, 1.50e+00, 1.70e+00,\n",
       "       1.60e+00, 1.40e+00, 1.60e+00, 1.90e+00, 1.90e+00, 1.90e+00,\n",
       "       1.90e+00, 1.90e+00, 1.90e+00, 1.80e+00, 1.80e+00, 1.90e+00,\n",
       "       1.04e+02, 1.13e+02, 1.11e+02, 1.11e+02, 1.03e+02, 9.90e+01,\n",
       "       9.30e+01, 1.00e+02, 9.40e+01, 9.80e+01, 1.19e+02, 1.08e+02,\n",
       "       1.09e+02, 9.70e+01, 9.70e+01, 9.30e+01, 1.31e+02, 9.60e+01,\n",
       "       2.30e+00, 2.20e+00, 1.60e+00, 2.20e+00, 2.20e+00, 2.00e+00,\n",
       "       1.70e+00, 1.20e+00, 1.40e+00, 2.10e+00, 2.10e+00, 1.80e+00,\n",
       "       2.10e+00, 2.20e+00, 2.10e+00, 1.90e+00, 1.60e+00, 1.20e+00])"
      ]
     },
     "execution_count": 88,
     "metadata": {},
     "output_type": "execute_result"
    }
   ],
   "source": [
    "# 拼接数据 \n",
    "assert test_data.shape[0] % 18 == 0\n",
    "l = int(test_data.shape[0]/18)\n",
    "print(l)\n",
    "test_x = np.zeros((l, 18 * 9))\n",
    "for i in range(l): # test_x的索引\n",
    "    for j in range(18): # test_data的索引\n",
    "        test_x[i, 9*j: 9*j +9] = test_data[i*18 + j]\n",
    "test_x[1]"
   ]
  },
  {
   "cell_type": "code",
   "execution_count": null,
   "metadata": {},
   "outputs": [],
   "source": [
    "# 正则化\n",
    "mean_x = np.mean(test_x, axis=0)\n",
    "std_x = np.std(test_x, axis=0)\n",
    "\n",
    "for i in range(len(test_x)):\n",
    "    for j in range(len(std_x)):\n",
    "        if std_x[j] != 0:\n",
    "            test_x[i][j] = (test_x[i][j] - mean_x[j]) / std_x[j]\n",
    "        else:\n",
    "            test_x[i][j] = (test_x[i][j] - mean_x[j])"
   ]
  },
  {
   "cell_type": "code",
   "execution_count": 89,
   "metadata": {},
   "outputs": [
    {
     "data": {
      "text/plain": [
       "tensor([1.4000e+01, 1.3000e+01, 1.3000e+01, 1.3000e+01, 1.3000e+01, 1.3000e+01,\n",
       "        1.3000e+01, 1.2000e+01, 1.3000e+01, 1.8000e+00, 1.8000e+00, 1.8000e+00,\n",
       "        1.8000e+00, 1.8000e+00, 1.8000e+00, 1.7000e+00, 1.7000e+00, 1.8000e+00,\n",
       "        3.3000e-01, 3.3000e-01, 3.3000e-01, 3.5000e-01, 3.4000e-01, 3.3000e-01,\n",
       "        3.2000e-01, 3.4000e-01, 6.1000e-01, 1.4000e-01, 1.4000e-01, 1.4000e-01,\n",
       "        1.5000e-01, 1.5000e-01, 1.2000e-01, 1.0000e-01, 9.0000e-02, 1.9000e-01,\n",
       "        7.0000e-01, 8.0000e-01, 3.0000e-01, 5.0000e-01, 4.0000e-01, 5.0000e-01,\n",
       "        4.0000e-01, 3.0000e-01, 2.0000e+00, 1.0000e+01, 8.7000e+00, 7.8000e+00,\n",
       "        8.3000e+00, 7.7000e+00, 6.8000e+00, 5.7000e+00, 6.7000e+00, 1.3000e+01,\n",
       "        1.1000e+01, 9.4000e+00, 8.1000e+00, 8.7000e+00, 8.1000e+00, 7.3000e+00,\n",
       "        6.0000e+00, 7.0000e+00, 1.5000e+01, 2.4000e+01, 2.8000e+01, 2.7000e+01,\n",
       "        2.3000e+01, 2.2000e+01, 2.8000e+01, 3.0000e+01, 3.1000e+01, 2.4000e+01,\n",
       "        3.6000e+01, 4.2000e+01, 4.3000e+01, 5.5000e+01, 5.0000e+01, 4.7000e+01,\n",
       "        4.5000e+01, 4.0000e+01, 3.3000e+01, 1.7000e+01, 2.2000e+01, 1.7000e+01,\n",
       "        9.0000e+00, 1.7000e+01, 2.3000e+01, 2.9000e+01, 1.7000e+01, 1.8000e+01,\n",
       "        0.0000e+00, 0.0000e+00, 0.0000e+00, 0.0000e+00, 0.0000e+00, 0.0000e+00,\n",
       "        0.0000e+00, 0.0000e+00, 0.0000e+00, 8.0000e+01, 8.0000e+01, 8.1000e+01,\n",
       "        8.1000e+01, 8.3000e+01, 8.2000e+01, 7.9000e+01, 7.4000e+01, 7.3000e+01,\n",
       "        2.0000e+00, 2.0000e+00, 1.6000e+00, 1.6000e+00, 1.5000e+00, 1.7000e+00,\n",
       "        1.6000e+00, 1.4000e+00, 1.6000e+00, 1.9000e+00, 1.9000e+00, 1.9000e+00,\n",
       "        1.9000e+00, 1.9000e+00, 1.9000e+00, 1.8000e+00, 1.8000e+00, 1.9000e+00,\n",
       "        1.0400e+02, 1.1300e+02, 1.1100e+02, 1.1100e+02, 1.0300e+02, 9.9000e+01,\n",
       "        9.3000e+01, 1.0000e+02, 9.4000e+01, 9.8000e+01, 1.1900e+02, 1.0800e+02,\n",
       "        1.0900e+02, 9.7000e+01, 9.7000e+01, 9.3000e+01, 1.3100e+02, 9.6000e+01,\n",
       "        2.3000e+00, 2.2000e+00, 1.6000e+00, 2.2000e+00, 2.2000e+00, 2.0000e+00,\n",
       "        1.7000e+00, 1.2000e+00, 1.4000e+00, 2.1000e+00, 2.1000e+00, 1.8000e+00,\n",
       "        2.1000e+00, 2.2000e+00, 2.1000e+00, 1.9000e+00, 1.6000e+00, 1.2000e+00,\n",
       "        1.0000e+00], dtype=torch.float64)"
      ]
     },
     "execution_count": 89,
     "metadata": {},
     "output_type": "execute_result"
    }
   ],
   "source": [
    "test_x = torch.from_numpy(test_x)\n",
    "test_X = torch.cat([test_x, torch.ones([test_x.shape[0], 1]).double()], dim = 1)\n",
    "test_X[1]"
   ]
  },
  {
   "cell_type": "code",
   "execution_count": 92,
   "metadata": {},
   "outputs": [
    {
     "data": {
      "text/plain": [
       "tensor([[  79.5168],\n",
       "        [ 242.0930],\n",
       "        [ 351.7156],\n",
       "        [ 102.0415],\n",
       "        [ 403.4229],\n",
       "        [ 353.3746],\n",
       "        [ 348.7181],\n",
       "        [ 561.1282],\n",
       "        [ 223.9062],\n",
       "        [ 952.4991],\n",
       "        [ 163.4331],\n",
       "        [ 143.4245],\n",
       "        [ 983.2729],\n",
       "        [ 871.2963],\n",
       "        [ 369.2992],\n",
       "        [ 203.4178],\n",
       "        [ 473.5663],\n",
       "        [1079.1083],\n",
       "        [ -27.4625],\n",
       "        [ 255.3909],\n",
       "        [ 670.1242],\n",
       "        [1233.9780],\n",
       "        [  77.7518],\n",
       "        [ 230.6886],\n",
       "        [ 236.8534],\n",
       "        [ 665.0930],\n",
       "        [ 223.5937],\n",
       "        [1268.2135],\n",
       "        [  39.3805],\n",
       "        [ 890.7361],\n",
       "        [ 319.6344],\n",
       "        [ 110.9705],\n",
       "        [ -26.6700],\n",
       "        [ 339.0140],\n",
       "        [ 547.7172],\n",
       "        [ 547.1750],\n",
       "        [ 712.9377],\n",
       "        [ 521.0206],\n",
       "        [ 681.4449],\n",
       "        [ 615.8573],\n",
       "        [  86.8952],\n",
       "        [ 711.4779],\n",
       "        [ 434.1626],\n",
       "        [ 780.3232],\n",
       "        [ 289.5823],\n",
       "        [ 534.1913],\n",
       "        [ 375.6277],\n",
       "        [ 150.1304],\n",
       "        [ 364.6040],\n",
       "        [ 431.8722],\n",
       "        [ 310.1069],\n",
       "        [ 103.8691],\n",
       "        [ 363.2696],\n",
       "        [ 843.5292],\n",
       "        [ 213.0666],\n",
       "        [ 625.1239],\n",
       "        [ 527.8424],\n",
       "        [ 292.0830],\n",
       "        [ 980.7923],\n",
       "        [ 323.8182],\n",
       "        [ 263.3235],\n",
       "        [ 639.9788],\n",
       "        [ 176.9088],\n",
       "        [ 774.6718],\n",
       "        [ 196.3678],\n",
       "        [ 247.8239],\n",
       "        [ 242.1782],\n",
       "        [ -46.1176],\n",
       "        [ 735.9445],\n",
       "        [ 456.1820],\n",
       "        [ 267.3393],\n",
       "        [ 585.4279],\n",
       "        [ 990.7199],\n",
       "        [  77.3402],\n",
       "        [ 214.9923],\n",
       "        [  92.2802],\n",
       "        [ 736.6419],\n",
       "        [ 253.3163],\n",
       "        [ 388.6944],\n",
       "        [ 338.4428],\n",
       "        [ 411.1732],\n",
       "        [ 559.1474],\n",
       "        [ 317.8906],\n",
       "        [1490.6155],\n",
       "        [ 534.8114],\n",
       "        [ 430.2182],\n",
       "        [ 363.4315],\n",
       "        [ 516.1975],\n",
       "        [ 385.3736],\n",
       "        [ 367.6276],\n",
       "        [ 489.1012],\n",
       "        [ 581.0634],\n",
       "        [  57.3517],\n",
       "        [ 653.5167],\n",
       "        [ 691.4459],\n",
       "        [ 249.5056],\n",
       "        [ 497.8067],\n",
       "        [ 161.1362],\n",
       "        [ 385.5000],\n",
       "        [  47.1751],\n",
       "        [ 262.9596],\n",
       "        [ 502.9806],\n",
       "        [ 216.3520],\n",
       "        [ 242.0917],\n",
       "        [ 437.7532],\n",
       "        [ 631.1858],\n",
       "        [ 451.8752],\n",
       "        [  65.4725],\n",
       "        [ 100.8998],\n",
       "        [1262.0726],\n",
       "        [ 781.1207],\n",
       "        [ 238.6247],\n",
       "        [ 376.3303],\n",
       "        [ 264.5106],\n",
       "        [ 195.9320],\n",
       "        [ 393.4862],\n",
       "        [ 384.6639],\n",
       "        [ 146.0659],\n",
       "        [ 305.8620],\n",
       "        [ 277.0423],\n",
       "        [1160.8707],\n",
       "        [ 352.3276],\n",
       "        [ 487.7754],\n",
       "        [ 399.6235],\n",
       "        [  92.1960],\n",
       "        [ 680.6812],\n",
       "        [ 119.0706],\n",
       "        [ 240.2008],\n",
       "        [ 506.3477],\n",
       "        [1133.9605],\n",
       "        [ 319.5335],\n",
       "        [ 247.5289],\n",
       "        [ 861.0042],\n",
       "        [ 204.2122],\n",
       "        [ 201.7540],\n",
       "        [  34.1866],\n",
       "        [ 205.8232],\n",
       "        [ 880.5730],\n",
       "        [ 242.8951],\n",
       "        [  72.8231],\n",
       "        [ 435.5330],\n",
       "        [ 388.2301],\n",
       "        [ 672.1815],\n",
       "        [ 486.3903],\n",
       "        [ 248.8436],\n",
       "        [ 373.9042],\n",
       "        [ 142.9860],\n",
       "        [ 816.6663],\n",
       "        [ 253.8507],\n",
       "        [ 565.6377],\n",
       "        [ 140.3157],\n",
       "        [ 115.0454],\n",
       "        [ 409.0625],\n",
       "        [  95.7108],\n",
       "        [ 219.4561],\n",
       "        [ 606.3698],\n",
       "        [ 109.6776],\n",
       "        [ 552.0464],\n",
       "        [ 201.2582],\n",
       "        [ 301.3693],\n",
       "        [ 683.7864],\n",
       "        [ 298.9511],\n",
       "        [ 170.6988],\n",
       "        [  86.4228],\n",
       "        [ 913.1726],\n",
       "        [ 452.2855],\n",
       "        [  -2.9494],\n",
       "        [ 270.7522],\n",
       "        [1011.3128],\n",
       "        [ 251.1899],\n",
       "        [1123.3073],\n",
       "        [ 587.7796],\n",
       "        [ 365.0001],\n",
       "        [ 303.7012],\n",
       "        [ 919.4614],\n",
       "        [ 280.5978],\n",
       "        [ 332.7615],\n",
       "        [ 541.1900],\n",
       "        [ 171.1747],\n",
       "        [ 499.7610],\n",
       "        [ 229.3583],\n",
       "        [ 129.9094],\n",
       "        [ 826.2194],\n",
       "        [ 645.3219],\n",
       "        [ 250.2308],\n",
       "        [ 518.1039],\n",
       "        [ 433.4699],\n",
       "        [1162.4543],\n",
       "        [ 135.4710],\n",
       "        [ 863.6800],\n",
       "        [ 583.7245],\n",
       "        [ 208.2388],\n",
       "        [ 341.2502],\n",
       "        [ -46.1523],\n",
       "        [ 293.8285],\n",
       "        [ -21.5948],\n",
       "        [ 543.4227],\n",
       "        [  43.5653],\n",
       "        [ 271.1561],\n",
       "        [1047.7297],\n",
       "        [ 383.9369],\n",
       "        [ 364.5514],\n",
       "        [1018.2702],\n",
       "        [ 165.1421],\n",
       "        [ 150.1205],\n",
       "        [ 144.7723],\n",
       "        [  91.0264],\n",
       "        [ -13.2934],\n",
       "        [2035.1246],\n",
       "        [ 313.1353],\n",
       "        [ 224.9643],\n",
       "        [ 184.5567],\n",
       "        [ 551.4406],\n",
       "        [ 579.5602],\n",
       "        [ 295.2694],\n",
       "        [ 504.8698],\n",
       "        [1263.2811],\n",
       "        [ -13.3446],\n",
       "        [ 189.2537],\n",
       "        [ 523.0587],\n",
       "        [ 229.1294],\n",
       "        [ 131.6443],\n",
       "        [1947.8850],\n",
       "        [ 131.0448],\n",
       "        [ 260.6276],\n",
       "        [1002.1934],\n",
       "        [ 235.5638],\n",
       "        [ 279.3811],\n",
       "        [ 145.6245],\n",
       "        [  80.6076],\n",
       "        [ 710.8242],\n",
       "        [ 275.0785],\n",
       "        [ 813.0917],\n",
       "        [ 675.0330],\n",
       "        [ 275.4586],\n",
       "        [ 598.4690],\n",
       "        [1205.3135],\n",
       "        [ 622.9952],\n",
       "        [  45.1566],\n",
       "        [ 254.7321]], dtype=torch.float64)"
      ]
     },
     "execution_count": 92,
     "metadata": {},
     "output_type": "execute_result"
    }
   ],
   "source": [
    "pred_test = torch.mm(test_X, w.double())\n",
    "pred_test"
   ]
  },
  {
   "cell_type": "code",
   "execution_count": 97,
   "metadata": {},
   "outputs": [
    {
     "data": {
      "text/plain": [
       "80"
      ]
     },
     "execution_count": 97,
     "metadata": {},
     "output_type": "execute_result"
    }
   ],
   "source": [
    "round(pred_test[0].item())"
   ]
  },
  {
   "cell_type": "code",
   "execution_count": null,
   "metadata": {},
   "outputs": [],
   "source": []
  }
 ],
 "metadata": {
  "kernelspec": {
   "display_name": "Python 3",
   "language": "python",
   "name": "python3"
  },
  "language_info": {
   "codemirror_mode": {
    "name": "ipython",
    "version": 3
   },
   "file_extension": ".py",
   "mimetype": "text/x-python",
   "name": "python",
   "nbconvert_exporter": "python",
   "pygments_lexer": "ipython3",
   "version": "3.7.4"
  }
 },
 "nbformat": 4,
 "nbformat_minor": 2
}
